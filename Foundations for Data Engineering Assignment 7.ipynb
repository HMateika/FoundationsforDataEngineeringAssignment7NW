{
 "cells": [
  {
   "cell_type": "code",
   "execution_count": 1,
   "id": "7548a5b3",
   "metadata": {},
   "outputs": [],
   "source": [
    "import pandas as pd\n",
    "import numpy as np\n",
    "import matplotlib.pyplot as plt\n",
    "import time\n",
    "from collections import deque"
   ]
  },
  {
   "cell_type": "code",
   "execution_count": 2,
   "id": "c0f8b446",
   "metadata": {},
   "outputs": [],
   "source": [
    "#Graph\n",
    "graph = {}\n",
    "graph['NYC'] = {}\n",
    "graph['NYC']['DC'] = 2\n",
    "graph['NYC']['Indianapolis']= 11\n",
    "graph['NYC']['Pittsburg'] = 7\n",
    "\n",
    "graph['DC']= {}\n",
    "graph['DC']['Atlanta'] = 2\n",
    "graph['Atlanta']= {}\n",
    "graph['Atlanta']['New Orleans'] = 2\n",
    "graph['New Orleans'] = {}\n",
    "graph['New Orleans']['Dallas']= 2\n",
    "graph['Dallas'] = {}\n",
    "graph['Dallas']['Albuquerque'] = 2\n",
    "\n",
    "graph['Indianapolis'] = {}\n",
    "graph['Indianapolis']['Kansas City'] = 8\n",
    "graph['Kansas City'] = {}\n",
    "graph['Kansas City']['Denver'] = 7\n",
    "graph['Denver'] = {}\n",
    "graph['Denver']['Salt Lake City'] = 6\n",
    "\n",
    "graph['Pittsburg'] = {}\n",
    "graph['Pittsburg']['Cincinatti'] = 6\n",
    "graph['Cincinatti'] = {}\n",
    "graph['Cincinatti']['St Louis'] = 8\n",
    "graph['St Louis'] = {}\n",
    "graph['St Louis']['Oklahoma City'] = 7\n",
    "graph['Oklahoma City'] = {}\n",
    "graph['Oklahoma City']['Albuquerque'] = 9\n",
    "\n",
    "graph['Salt Lake City'] = {}\n",
    "graph['Salt Lake City']['Las Vegas']= 9\n",
    "graph['Las Vegas'] = {}\n",
    "graph['Las Vegas']['Los Angeles'] = 5\n",
    "graph['Las Vegas']['San Diego'] = 2\n",
    "graph['San Diego'] = {}\n",
    "graph ['San Diego']['Los Angeles'] = 2\n",
    "\n",
    "graph['Albuquerque'] = {}\n",
    "graph['Albuquerque']['Phoenix'] = 2\n",
    "graph['Phoenix'] = {}\n",
    "graph['Phoenix']['Las Vegas'] = 2\n",
    "graph['Phoenix']['San Diego'] = 5\n",
    "graph['Los Angeles'] = {}\n"
   ]
  },
  {
   "cell_type": "code",
   "execution_count": 3,
   "id": "8bf990dd",
   "metadata": {},
   "outputs": [
    {
     "name": "stdout",
     "output_type": "stream",
     "text": [
      "{'NYC': {'DC': 2, 'Indianapolis': 11, 'Pittsburg': 7}, 'DC': {'Atlanta': 2}, 'Atlanta': {'New Orleans': 2}, 'New Orleans': {'Dallas': 2}, 'Dallas': {'Albuquerque': 2}, 'Indianapolis': {'Kansas City': 8}, 'Kansas City': {'Denver': 7}, 'Denver': {'Salt Lake City': 6}, 'Pittsburg': {'Cincinatti': 6}, 'Cincinatti': {'St Louis': 8}, 'St Louis': {'Oklahoma City': 7}, 'Oklahoma City': {'Albuquerque': 9}, 'Salt Lake City': {'Las Vegas': 9}, 'Las Vegas': {'Los Angeles': 5, 'San Diego': 2}, 'San Diego': {'Los Angeles': 2}, 'Albuquerque': {'Phoenix': 2}, 'Phoenix': {'Las Vegas': 2, 'San Diego': 5}, 'Los Angeles': {}}\n"
     ]
    }
   ],
   "source": [
    "print(graph)"
   ]
  },
  {
   "cell_type": "code",
   "execution_count": 4,
   "id": "0ceb7c3a",
   "metadata": {},
   "outputs": [],
   "source": [
    "#Costs\n",
    "costs = {}\n",
    "costs['DC'] = 2\n",
    "costs['Atlanta'] = float('inf')\n",
    "costs['New Orleans'] = float('inf')\n",
    "costs['Dallas'] = float('inf')\n",
    "costs['Indianapolis'] = 11\n",
    "costs['Kansas City'] = float('inf')\n",
    "costs['Denver'] = float('inf')\n",
    "costs['Salt Lake City'] = float('inf')\n",
    "costs['Pittsburg'] = 7\n",
    "costs['Cincinatti'] = float('inf')\n",
    "costs['St Louis'] = float('inf')\n",
    "costs['Oklahoma City'] = float('inf')\n",
    "costs['Albuquerque'] = float('inf')\n",
    "costs['Phoenix'] = float('inf')\n",
    "costs['Las Vegas'] = float('inf')\n",
    "costs['San Diego'] = float('inf')\n",
    "costs['Los Angeles'] = float('inf')\n"
   ]
  },
  {
   "cell_type": "code",
   "execution_count": 5,
   "id": "e355e916",
   "metadata": {},
   "outputs": [],
   "source": [
    "#Parent for finding path later\n",
    "parent = {}\n",
    "parent['NYC'] = None\n",
    "parent['DC'] = 'NYC'\n",
    "parent['Indianapolis'] = 'NYC'\n",
    "parent['Pittsburg'] = 'NYC'\n",
    "parent['Atlanta'] = None\n",
    "parent['New Orleans'] = None\n",
    "parent['Dallas'] = None\n",
    "parent['Kansas City'] = None\n",
    "parent['Denver'] = None\n",
    "parent['Salt Lake City'] = None\n",
    "parent['Cincinatti'] = None\n",
    "parent['St Louis'] = None\n",
    "parent['Oklahoma City'] = None\n",
    "parent['Albuquerque'] = None\n",
    "parent['Phoenix'] = None\n",
    "parent['Las Vegas'] = None\n",
    "parent['San Diego'] = None\n",
    "parent['Los Angeles'] = None\n"
   ]
  },
  {
   "cell_type": "markdown",
   "id": "8975ad31",
   "metadata": {},
   "source": [
    "# Breadth-First "
   ]
  },
  {
   "cell_type": "code",
   "execution_count": 6,
   "id": "1806adf4",
   "metadata": {},
   "outputs": [],
   "source": [
    "def returnShortestPath(graph, start, end):\n",
    "    queue = [(start,[start])]\n",
    "    searched = set()\n",
    "    while queue:\n",
    "        city, path = queue.pop(0)\n",
    "        searched.add(city)\n",
    "        for node in graph[city]:\n",
    "            if node == end:\n",
    "                return path + [end]\n",
    "            else:\n",
    "                if node not in searched:\n",
    "                    searched.add(node)\n",
    "                    queue.append((node, path + [node]))"
   ]
  },
  {
   "cell_type": "code",
   "execution_count": 7,
   "id": "f6eb8c7e",
   "metadata": {},
   "outputs": [
    {
     "name": "stdout",
     "output_type": "stream",
     "text": [
      "['NYC', 'Indianapolis', 'Kansas City', 'Denver', 'Salt Lake City', 'Las Vegas', 'Los Angeles']\n"
     ]
    }
   ],
   "source": [
    "#Find Shortest Path\n",
    "start_time = time.time()\n",
    "for x in range(100):\n",
    "    shortest_path = returnShortestPath(graph, 'NYC', 'Los Angeles')\n",
    "breadth_runtime = (time.time()-start_time)*1000\n",
    "print(shortest_path)"
   ]
  },
  {
   "cell_type": "code",
   "execution_count": 8,
   "id": "bb7e0e83",
   "metadata": {},
   "outputs": [
    {
     "name": "stdout",
     "output_type": "stream",
     "text": [
      "46\n"
     ]
    }
   ],
   "source": [
    "#Get total cost of shortest path\n",
    "total = 0\n",
    "for x in shortest_path:\n",
    "    try:\n",
    "        next_path = shortest_path[shortest_path.index(x)+1]\n",
    "        total += graph[x][next_path]\n",
    "    except: pass\n",
    "print(total)    "
   ]
  },
  {
   "cell_type": "markdown",
   "id": "9dc8b750",
   "metadata": {},
   "source": [
    "# Dijkstra's Algorithm"
   ]
  },
  {
   "cell_type": "code",
   "execution_count": 9,
   "id": "8cfe2fcf",
   "metadata": {},
   "outputs": [],
   "source": [
    "def find_lowest_cost_node(costs):\n",
    "    lowest_cost = float(\"inf\")\n",
    "    lowest_cost_node = None\n",
    "    for node in costs:\n",
    "        cost = costs[node]\n",
    "        if cost < lowest_cost and node not in processed:\n",
    "            lowest_cost = cost\n",
    "            lowest_cost_node = node\n",
    "    return lowest_cost_node"
   ]
  },
  {
   "cell_type": "code",
   "execution_count": 10,
   "id": "304b4f06",
   "metadata": {},
   "outputs": [
    {
     "name": "stdout",
     "output_type": "stream",
     "text": [
      "Cost from NYC to LA:\n",
      "18\n"
     ]
    }
   ],
   "source": [
    "#Get Cost\n",
    "processed = []\n",
    "start_time = time.time()\n",
    "node = find_lowest_cost_node(costs)\n",
    "while node is not None:\n",
    "    cost = costs[node]\n",
    "    neighbors = graph[node]\n",
    "    for n in neighbors.keys():\n",
    "        new_cost = cost + neighbors[n]\n",
    "        if costs[n] > new_cost:\n",
    "            costs[n] = new_cost\n",
    "            parent[n] = node\n",
    "    processed.append(node)\n",
    "    node = find_lowest_cost_node(costs)\n",
    "d_runtime = (time.time()-start_time)*1000\n",
    "print(\"Cost from NYC to LA:\")\n",
    "print(costs['Los Angeles'])"
   ]
  },
  {
   "cell_type": "code",
   "execution_count": 11,
   "id": "98f58fa7",
   "metadata": {},
   "outputs": [],
   "source": [
    "#Get Path\n",
    "def GetPath(endcity):\n",
    "    path = []\n",
    "    path.append(endcity)\n",
    "    city = parent[endcity]\n",
    "    while city is not None:\n",
    "        path.append(city)\n",
    "        city = parent[city]\n",
    "    return path[::-1]"
   ]
  },
  {
   "cell_type": "code",
   "execution_count": 12,
   "id": "9d87c89a",
   "metadata": {},
   "outputs": [
    {
     "name": "stdout",
     "output_type": "stream",
     "text": [
      "['NYC', 'DC', 'Atlanta', 'New Orleans', 'Dallas', 'Albuquerque', 'Phoenix', 'Las Vegas', 'San Diego', 'Los Angeles']\n"
     ]
    }
   ],
   "source": [
    "print(GetPath('Los Angeles'))"
   ]
  },
  {
   "cell_type": "code",
   "execution_count": 17,
   "id": "a184bea4",
   "metadata": {},
   "outputs": [
    {
     "data": {
      "image/png": "[encoded data removed]",
      "text/plain": [
       "<Figure size 432x288 with 1 Axes>"
      ]
     },
     "metadata": {
      "needs_background": "light"
     },
     "output_type": "display_data"
    }
   ],
   "source": [
    "x = ['Breadth First 100 times', 'Dijkstra']\n",
    "y = [breadth_runtime, d_runtime]\n",
    "plt.bar(x,y);"
   ]
  },
  {
   "cell_type": "markdown",
   "id": "846dd6f2",
   "metadata": {},
   "source": [
    "# Executive Summary:\n",
    "\n",
    "## During this experiment, I created a graph based on multiple cities and routes that can be taken during a road trip from New York to Los Angeles. Each city was a node whereas the time that it took to get to each city was an edge. During this experiment two different approaches were taken. The first was the breadth-first algorithm approach where the idea was to travel to the least amount of nodes possible. The second was using Dijkstra's algorithm to find the route with the least amount of edge cost possible.\n",
    "\n",
    "## Regarding the results of the algorithms where there extremely distinct differences. The breadth-first approach took the user to 7 different cities (when counting the start and ending ones) at a cost of 46. Dijkstra's algorithm took the user to 10 different cities at a cost of 18. That cost is less than half of the previous cost, meaning that the journey from NYC to Los Angeles is significantly faster in comparison. These results come about for obvious reasons, Dijkstra is more interested in cost while breadth-first is more interested in nodes. Regarding the complexity of said algorithm, Dijkstra's is far more complex since the algorithm requires more inputs and the fact that it must continuously backtrack to compare costs from one path to another.\n",
    "\n",
    "## A lot of that computational complexity shows on the above bar graph. To even record times in milliseconds for breadth-first, I had to run the algorithm 100 times. For Dijkstra, I only had to run it once to get a solid time. It's quite striking that I had to run breadth-first 100 times to get a time similar to running Dijkstra's once. This does make sense since the number of edges has a strong influence on Dijkstra's Big O notation. In the case of breadth-first, it is O(V+E) while for Dijkstra it is O(E(logV)). Therefore, there is more of a constant with breadth-first than with Dijkstra regarding how it runs. This is all helpful for data engineers for a couple reasons: 1. It helps them understand that while breadth-first may help them find the shortest path, it will not necessarily help them with the most optimal path. 2. It helps them understand that while Dijkstra's algorithm may find the most optimal path, it does it at a larger computational cost than the breadth-first algorithm. "
   ]
  },
  {
   "cell_type": "code",
   "execution_count": null,
   "id": "319f4fde",
   "metadata": {},
   "outputs": [],
   "source": []
  }
 ],
 "metadata": {
  "kernelspec": {
   "display_name": "Python 3 (ipykernel)",
   "language": "python",
   "name": "python3"
  },
  "language_info": {
   "codemirror_mode": {
    "name": "ipython",
    "version": 3
   },
   "file_extension": ".py",
   "mimetype": "text/x-python",
   "name": "python",
   "nbconvert_exporter": "python",
   "pygments_lexer": "ipython3",
   "version": "3.8.5"
  }
 },
 "nbformat": 4,
 "nbformat_minor": 5
}
